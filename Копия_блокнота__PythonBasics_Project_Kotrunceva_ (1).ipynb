{
  "nbformat": 4,
  "nbformat_minor": 0,
  "metadata": {
    "colab": {
      "name": "Копия блокнота \"PythonBasics-Project-Kotrunceva\"",
      "provenance": [],
      "collapsed_sections": []
    },
    "kernelspec": {
      "name": "python3",
      "display_name": "Python 3"
    }
  },
  "cells": [
    {
      "cell_type": "markdown",
      "metadata": {
        "id": "6Gai9NWdXIaz"
      },
      "source": [
        "**Проект \"Воронка продаж\"** (Валерия Котрунцева)\n",
        "\n",
        "Необходимо оценить стоимость привлечения одного покупателя на сайт интернет-магазина. Создайте функцию или метод класса, реализующий оценку стоимости привлечения покупателя на основе данных о стоимости 1000 показов рекламы (N), кликабельности - отношения числа кликов к числу показов рекламы (CTR), конверсии сайта - отношения числа заказов к числу посетителей сайта (С). Расчет осуществляется по формуле:\n",
        "\n",
        "\\begin{align}\n",
        "R = \\frac{N}{1000 \\cdot CTR \\cdot C} \\\\\n",
        "\\end{align}\n",
        "\n",
        "\n",
        "Для тестирования программного решения используйте следующие данные:\n",
        "<table>\n",
        "<tr><td>N, руб.</td><td>CTR</td><td>C</td></tr>\n",
        "<tr><td>300</td><td>0.030</td><td>0.020</td></tr>\n",
        "<tr><td>250</td><td>0.050</td><td>0.020</td></tr>\n",
        "<tr><td>120</td><td>0.010</td><td>0.015</td></tr>\n",
        "</table>"
      ]
    },
    {
      "cell_type": "code",
      "metadata": {
        "id": "9Yf8Zyr4KU9G",
        "outputId": "e7da0981-000a-4e9a-d230-aa4040c3d7f2",
        "colab": {
          "base_uri": "https://localhost:8080/",
          "height": 70
        }
      },
      "source": [
        "class sales:\n",
        "\n",
        "  def __init__(self, N, CTR, C):\n",
        "    self.N = N\n",
        "    self.CTR = CTR\n",
        "    self.C = C\n",
        "  \n",
        "  def voronka(self):\n",
        "    R = self.N / (1000*self.CTR*self.C)\n",
        "    print(\"Cтоимость привлечения покупателя: \", R)\n",
        "\n",
        "sale1 = sales(300, 0.030, 0.020)\n",
        "sale1.voronka()\n",
        "\n",
        "sale2 = sales(250, 0.050, 0.020)\n",
        "sale2.voronka()\n",
        "\n",
        "sale3 = sales(120, 0.010, 0.015)\n",
        "sale3.voronka()"
      ],
      "execution_count": 5,
      "outputs": [
        {
          "output_type": "stream",
          "text": [
            "Cтоимость привлечения покупателя:  500.0\n",
            "Cтоимость привлечения покупателя:  250.0\n",
            "Cтоимость привлечения покупателя:  800.0\n"
          ],
          "name": "stdout"
        }
      ]
    }
  ]
}