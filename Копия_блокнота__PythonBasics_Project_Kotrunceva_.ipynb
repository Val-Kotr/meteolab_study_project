{
  "nbformat": 4,
  "nbformat_minor": 0,
  "metadata": {
    "colab": {
      "name": "Копия блокнота \"PythonBasics-Project-Kotrunceva\"",
      "provenance": [],
      "collapsed_sections": []
    },
    "kernelspec": {
      "name": "python3",
      "display_name": "Python 3"
    }
  },
  "cells": [
    {
      "cell_type": "markdown",
      "metadata": {
        "id": "i4JTu6Lh32ip"
      },
      "source": [
        "# **Проект**"
      ]
    },
    {
      "cell_type": "markdown",
      "metadata": {
        "id": "8M7HETGRu4jo"
      },
      "source": [
        "## Задание на проект"
      ]
    },
    {
      "cell_type": "markdown",
      "metadata": {
        "id": "6Gai9NWdXIaz"
      },
      "source": [
        "**Проект \"Воронка продаж\"** (Валерия Котрунцева)\n",
        "\n",
        "Необходимо оценить стоимость привлечения одного покупателя на сайт интернет-магазина. Создайте функцию или метод класса, реализующий оценку стоимости привлечения покупателя на основе данных о стоимости 1000 показов рекламы (N), кликабельности - отношения числа кликов к числу показов рекламы (CTR), конверсии сайта - отношения числа заказов к числу посетителей сайта (С). Расчет осуществляется по формуле:\n",
        "\n",
        "\\begin{align}\n",
        "R = \\frac{N}{1000 \\cdot CTR \\cdot C} \\\\\n",
        "\\end{align}\n",
        "\n",
        "\n",
        "Для тестирования программного решения используйте следующие данные:\n",
        "<table>\n",
        "<tr><td>N, руб.</td><td>CTR</td><td>C</td></tr>\n",
        "<tr><td>300</td><td>0.030</td><td>0.020</td></tr>\n",
        "<tr><td>250</td><td>0.050</td><td>0.020</td></tr>\n",
        "<tr><td>120</td><td>0.010</td><td>0.015</td></tr>\n",
        "</table>"
      ]
    },
    {
      "cell_type": "code",
      "metadata": {
        "id": "9Yf8Zyr4KU9G",
        "outputId": "be9c4983-bd94-4e93-da48-f81056ba98da",
        "colab": {
          "base_uri": "https://localhost:8080/",
          "height": 34
        }
      },
      "source": [
        "class sales:\n",
        "\n",
        "  def __init__(self, N, CTR, C):\n",
        "    self.N = N\n",
        "    self.CTR = CTR\n",
        "    self.C = C\n",
        "  \n",
        "  def voronka(self):\n",
        "    R = self.N / (1000*self.CTR*self.C)\n",
        "    print(R)\n",
        "\n",
        "sale1 = sales(300, 0.030, 0.020)\n",
        "sale1.voronka()"
      ],
      "execution_count": 3,
      "outputs": [
        {
          "output_type": "stream",
          "text": [
            "500.0\n"
          ],
          "name": "stdout"
        }
      ]
    },
    {
      "cell_type": "markdown",
      "metadata": {
        "id": "Dx8jToStRehz"
      },
      "source": [
        "## Загрузка файлов проекта на GitHub"
      ]
    },
    {
      "cell_type": "markdown",
      "metadata": {
        "id": "PfhK3nbHYfTt"
      },
      "source": [
        "Сохраняем файл с ноутбуком на локальный компьютер, выбрав пункт меню \"Файл -> Скачать IPYNB\".\n",
        "\n",
        "Переходим на сайт [GitHub](https://github.com/). Авторизуемся (Sign In) или создаем аккаунт (Sign Up). С помощью пункта меню \"+ -> New repository\". В появившимся окне указываем имя репозитория (Repository name), публичный тип репозитория (Public) и нажимаем кнопку \"Create repository\".\n",
        "\n",
        "Переходим по ссылке <code>uploading an existing file</code>, появившейся в тексте верхней части окна. Затем переходим по ссылке <code>choose your files</code> и выбераем на локальном компьютере нужный файл. Затем нажимаем на кнопку \"Commit changes\".\n",
        "\n",
        "Все, файлы перенесены на GitHub. Скопируйте ссылку на репозиторий, для этого нажмите на стрелку выпадающего меню рядом с кнопкой \"Code\" и скопируйте текст сслыки вида: <code>https://github.com/ваш_логин/имя_репозитория.git</code>"
      ]
    },
    {
      "cell_type": "markdown",
      "metadata": {
        "id": "uYOkc9ytnAbB"
      },
      "source": [
        "## Настройка запуска блокнота с помощью сервиса MyBinder"
      ]
    },
    {
      "cell_type": "markdown",
      "metadata": {
        "id": "IZDzmU9ynS9i"
      },
      "source": [
        "Перейдите на сайт <a href=\"https://mybinder.org/\">MyBinder</a>. В поле \"GitHub repository name or URL\" укажите адрес вашего репозитория. Нажмите кнопку \"launch\". Будет сгенерирован экземпляр виртуального контейнера, в котором произойдет разворачивание среды Jyputer Notebook и вашего ноутбука. Скопируйте ссылку на ваш виртуальный контейнер."
      ]
    },
    {
      "cell_type": "markdown",
      "metadata": {
        "id": "63YRyCNuoSGY"
      },
      "source": [
        "Перейдите в ваш репозиторий на сайте GitHub и добавьте файл .README с текстом ссылки на виртуальный контейнер, размещенный на MyBinder."
      ]
    }
  ]
}